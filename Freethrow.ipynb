{
 "cells": [
  {
   "cell_type": "markdown",
   "metadata": {},
   "source": [
    "# 1 Let's explore the free throw play-by-play data\n",
    "## Is it true that player's shoot better on the 3rd shot when they shoot better in the first two shots?"
   ]
  },
  {
   "cell_type": "markdown",
   "metadata": {},
   "source": [
    "Let's import the python package that allows us to use Stata with Jupyter"
   ]
  },
  {
   "cell_type": "code",
   "execution_count": 2,
   "metadata": {},
   "outputs": [],
   "source": [
    "import ipystata"
   ]
  },
  {
   "cell_type": "markdown",
   "metadata": {},
   "source": [
    "## 2.1 Load the Free Trhow data, and keep only three-shot free-throws."
   ]
  },
  {
   "cell_type": "code",
   "execution_count": 12,
   "metadata": {},
   "outputs": [
    {
     "name": "stdout",
     "output_type": "stream",
     "text": [
      "\n",
      "(394,733 observations deleted)\n",
      "\n"
     ]
    }
   ],
   "source": [
    "%%stata\n",
    "global datadir \"data\"\n",
    "\n",
    "clear\n",
    "use \"$datadir\\\\FreeThrow.dta\",replace\n",
    "\n",
    "*Keep only 3 shot freet throws\n",
    "keep if outof==3 //keep only triples"
   ]
  },
  {
   "cell_type": "markdown",
   "metadata": {},
   "source": [
    "## 2.2 Generate needed variables\n",
    "in particular the shooting percentage the first 2 shots (0, 0.5, or 1)."
   ]
  },
  {
   "cell_type": "code",
   "execution_count": 13,
   "metadata": {
    "scrolled": true
   },
   "outputs": [
    {
     "name": "stdout",
     "output_type": "stream",
     "text": [
      "\n",
      "(4,626 missing values generated)\n",
      "\n",
      "(4,626 observations deleted)\n",
      "\n"
     ]
    }
   ],
   "source": [
    "%%stata\n",
    "\n",
    "*Generate Unique player id, and unique game id\n",
    "egen sid=group(playerteam)\n",
    "sort season gid playerteam\n",
    "egen uid=group(uniquegid playerteam)\n",
    "\n",
    "*Creat variable FG% in the previous 2 shots for each triple\n",
    "sort sid uid linenumber\n",
    "by sid:gen fg_last2=(make[_n-1]+make[_n-2])/2 if number==3\n",
    "\n",
    "keep if fg_last2!=."
   ]
  },
  {
   "cell_type": "markdown",
   "metadata": {},
   "source": [
    "## 2.3 Run fixed effects model of $\\text{hit}_3=\\beta_0+\\beta_1\\frac{\\text{hit}_1+\\text{hit}_2}{2}$, i.e. the effect of the fg% in the previous 2 shots on the 3rd shot\n",
    "\n",
    "### Notice the effect is substantial, and nearly significant"
   ]
  },
  {
   "cell_type": "code",
   "execution_count": 14,
   "metadata": {
    "scrolled": true
   },
   "outputs": [
    {
     "name": "stdout",
     "output_type": "stream",
     "text": [
      "\n",
      "       panel variable:  sid (unbalanced)\n",
      "\n",
      "Fixed-effects (within) regression               Number of obs     =        790\n",
      "Group variable: sid                             Number of groups  =        503\n",
      "\n",
      "R-sq:                                           Obs per group:\n",
      "     within  = 0.0095                                         min =          1\n",
      "     between = 0.0075                                         avg =        1.6\n",
      "     overall = 0.0069                                         max =          3\n",
      "\n",
      "                                                F(1,502)          =       2.65\n",
      "corr(u_i, Xb)  = 0.0132                         Prob > F          =     0.1043\n",
      "\n",
      "                                  (Std. Err. adjusted for 503 clusters in sid)\n",
      "------------------------------------------------------------------------------\n",
      "             |               Robust\n",
      "        make |      Coef.   Std. Err.      t    P>|t|     [95% Conf. Interval]\n",
      "-------------+----------------------------------------------------------------\n",
      "    fg_last2 |   .0665782    .040918     1.63   0.104    -.0138134    .1469697\n",
      "       _cons |   .7880309   .0285649    27.59   0.000     .7319094    .8441523\n",
      "-------------+----------------------------------------------------------------\n",
      "     sigma_u |  .28477985\n",
      "     sigma_e |  .30081541\n",
      "         rho |  .47263716   (fraction of variance due to u_i)\n",
      "------------------------------------------------------------------------------\n",
      "\n"
     ]
    }
   ],
   "source": [
    "%%stata\n",
    "preserve\n",
    "    collapse make, by(playerteam sid fg_last2)\n",
    "    xtset sid\n",
    "    xtreg make fg_last2, fe robust\n",
    "restore"
   ]
  },
  {
   "cell_type": "markdown",
   "metadata": {},
   "source": [
    "A bit redudandant, but here is a  matched pairs t-test gives similar results, Pr(hit| 2hits) vs. Pr(hit|0 hits):"
   ]
  },
  {
   "cell_type": "code",
   "execution_count": 9,
   "metadata": {
    "scrolled": true
   },
   "outputs": [
    {
     "name": "stdout",
     "output_type": "stream",
     "text": [
      "\n",
      "(301 observations deleted)\n",
      "\n",
      "(349 observations deleted)\n",
      "\n",
      "Paired t test\n",
      "------------------------------------------------------------------------------\n",
      "Variable |     Obs        Mean    Std. Err.   Std. Dev.   [95% Conf. Interval]\n",
      "---------+--------------------------------------------------------------------\n",
      "    fg_2 |      70    .8473139    .0268263    .2244449    .7937969    .9008309\n",
      "    fg_0 |      70    .7821429    .0457943    .3831424    .6907858    .8734999\n",
      "---------+--------------------------------------------------------------------\n",
      "    diff |      70     .065171    .0513224    .4293939   -.0372143    .1675564\n",
      "------------------------------------------------------------------------------\n",
      "     mean(diff) = mean(fg_2 - fg_0)                               t =   1.2698\n",
      " Ho: mean(diff) = 0                              degrees of freedom =       69\n",
      "\n",
      " Ha: mean(diff) < 0           Ha: mean(diff) != 0           Ha: mean(diff) > 0\n",
      " Pr(T < t) = 0.8958         Pr(|T| > |t|) = 0.2084          Pr(T > t) = 0.1042\n",
      "\n"
     ]
    }
   ],
   "source": [
    "%%stata\n",
    "preserve \n",
    "    collapse make, by(playerteam sid fg_last2)\n",
    "    drop if fg_last2==.5\n",
    "    sort sid\n",
    "    by sid:egen numbersobs=count(make)\n",
    "    keep if numbersobs==2\n",
    "    sort sid fg_last2\n",
    "    by sid:gen fg_2=make[2]\n",
    "    by sid:gen fg_0=make[1]\n",
    "    ttest fg_2=fg_0 if fg_last2==0\n",
    "restore\n"
   ]
  },
  {
   "cell_type": "markdown",
   "metadata": {},
   "source": [
    "A matched pairs t-test, Pr(hit| 2hits) vs. Pr(hit|1 hit):"
   ]
  },
  {
   "cell_type": "code",
   "execution_count": 15,
   "metadata": {},
   "outputs": [
    {
     "name": "stdout",
     "output_type": "stream",
     "text": [
      "\n",
      "(88 observations deleted)\n",
      "\n",
      "(278 observations deleted)\n",
      "\n",
      "Paired t test\n",
      "------------------------------------------------------------------------------\n",
      "Variable |     Obs        Mean    Std. Err.   Std. Dev.   [95% Conf. Interval]\n",
      "---------+--------------------------------------------------------------------\n",
      "    fg_2 |     212    .8615923    .0158101    .2301979    .8304264    .8927582\n",
      "    fg_1 |     212    .8283464    .0213914    .3114635    .7861782    .8705147\n",
      "---------+--------------------------------------------------------------------\n",
      "    diff |     212    .0332459    .0285124    .4151474   -.0229599    .0894516\n",
      "------------------------------------------------------------------------------\n",
      "     mean(diff) = mean(fg_2 - fg_1)                               t =   1.1660\n",
      " Ho: mean(diff) = 0                              degrees of freedom =      211\n",
      "\n",
      " Ha: mean(diff) < 0           Ha: mean(diff) != 0           Ha: mean(diff) > 0\n",
      " Pr(T < t) = 0.8775         Pr(|T| > |t|) = 0.2449          Pr(T > t) = 0.1225\n",
      "\n"
     ]
    }
   ],
   "source": [
    "%%stata\n",
    "preserve \n",
    "    collapse make, by(playerteam sid fg_last2)\n",
    "    drop if fg_last2==0\n",
    "    sort sid\n",
    "    by sid:egen numbersobs=count(make)\n",
    "    keep if numbersobs==2\n",
    "    sort sid fg_last2\n",
    "    by sid:gen fg_2=make[2]\n",
    "    by sid:gen fg_1=make[1]\n",
    "    ttest fg_2=fg_1 if fg_last2==.5\n",
    "restore"
   ]
  },
  {
   "cell_type": "code",
   "execution_count": null,
   "metadata": {},
   "outputs": [],
   "source": []
  }
 ],
 "metadata": {
  "kernelspec": {
   "display_name": "Python 3",
   "language": "python",
   "name": "python3"
  },
  "language_info": {
   "codemirror_mode": {
    "name": "ipython",
    "version": 3
   },
   "file_extension": ".py",
   "mimetype": "text/x-python",
   "name": "python",
   "nbconvert_exporter": "python",
   "pygments_lexer": "ipython3",
   "version": "3.6.4"
  }
 },
 "nbformat": 4,
 "nbformat_minor": 2
}
